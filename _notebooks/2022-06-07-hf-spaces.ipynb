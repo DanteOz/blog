{
 "cells": [
  {
   "cell_type": "markdown",
   "metadata": {
    "tags": []
   },
   "source": [
    "# Deploying REST APIs on HuggingFace Spaces\n",
    "> A tutorial for deploying HTTP APIs on HuggingFace Spaces.\n",
    "\n",
    "- toc: true\n",
    "- branch: master\n",
    "- badges: true\n",
    "- comments: true\n",
    "- categories: [HuggingFace, Deployment, API]\n",
    "- permalink: /spaces_apis/"
   ]
  },
  {
   "cell_type": "markdown",
   "metadata": {
    "tags": []
   },
   "source": [
    "## Outline\n",
    "- Gradio HTTP endpoint\n",
    "- Compliment demo libraries\n",
    "- Describe limitations\n",
    "- Describe requirements\n",
    "    - Link to documentation\n",
    "- Show minimal flask app\n",
    "- HTTP Endpoint schema\n",
    "- Example\n",
    "\n",
    "\n",
    "## Todo\n",
    "- Redirect inside iframe\n",
    "    - Return HTTP redirect to iframe\n",
    "- Custom domain to spaces\n",
    "    - CNAME to hf domain\n",
    "    - Page Rule"
   ]
  },
  {
   "cell_type": "markdown",
   "metadata": {
    "tags": []
   },
   "source": [
    "## TL;DR\n",
    "> HuggingFace Spaces can be used to freely host REST APIs for machine learning projects. This can enable demos which don't fit in the current demo libraires or require complex web or mobile UIs."
   ]
  },
  {
   "cell_type": "markdown",
   "metadata": {},
   "source": [
    "Sharing machine learning demos can be difficult if you don't have a experience with cloud service providers. Deploying a full stack project on Amazon Web Services requires knowledge of some combination of S3, EC2, CloudFront, Route53, Lambdas and API Gateway, not to mention understanding the complex pricing model."
   ]
  },
  {
   "cell_type": "markdown",
   "metadata": {},
   "source": [
    "In order to make sharing eaiser, HuggingFace released Spaces, a free service for building, hosting, and serving machine learning applications through a git repo. Each Space has access to 8 CPU cores and 16 GBs of RAM, and supports one of three project of types: Streamlit, Gradio, and static. Static Spaces render front ends written with HTML, CSS and Javscript, while Streamlit and Gradio Spaces serve demos from the requisite libraries."
   ]
  },
  {
   "cell_type": "markdown",
   "metadata": {},
   "source": [
    "Gradio is interesting as it not only provides renders a front end in the App tab of the spaces view, but also provides a HTTP"
   ]
  },
  {
   "cell_type": "markdown",
   "metadata": {
    "tags": []
   },
   "source": [
    "## Requirements"
   ]
  },
  {
   "cell_type": "markdown",
   "metadata": {},
   "source": [
    "There are three requirements for to run a "
   ]
  },
  {
   "cell_type": "markdown",
   "metadata": {
    "jp-MarkdownHeadingCollapsed": true,
    "tags": []
   },
   "source": [
    "## Minimal Flask App"
   ]
  },
  {
   "cell_type": "markdown",
   "metadata": {
    "jp-MarkdownHeadingCollapsed": true,
    "tags": []
   },
   "source": [
    "## Example"
   ]
  },
  {
   "cell_type": "code",
   "execution_count": null,
   "metadata": {},
   "outputs": [],
   "source": []
  }
 ],
 "metadata": {
  "interpreter": {
   "hash": "7bb8e535c91a050c0d92565f01f782bf51839cf5ced3810ec0f3dfd7974bf2fd"
  },
  "kernelspec": {
   "display_name": "Python 3 (ipykernel)",
   "language": "python",
   "name": "python3"
  },
  "language_info": {
   "codemirror_mode": {
    "name": "ipython",
    "version": 3
   },
   "file_extension": ".py",
   "mimetype": "text/x-python",
   "name": "python",
   "nbconvert_exporter": "python",
   "pygments_lexer": "ipython3",
   "version": "3.9.7"
  }
 },
 "nbformat": 4,
 "nbformat_minor": 4
}
